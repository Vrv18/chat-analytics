{
 "cells": [
  {
   "cell_type": "markdown",
   "metadata": {},
   "source": [
    "# Example Use - Python Client\n",
    "\n",
    "This notebook provides an example of using `chat-analytics-app` from Steamship's Python client.\n",
    "\n",
    "To authenticate with Steamship, install the Steamship CLI with:\n",
    "\n",
    "```bash\n",
    "> npm install -g @steamship/cli\n",
    "```\n",
    "\n",
    "And then login with:\n",
    "\n",
    "```bash\n",
    "> ship login\n",
    "```\n",
    "\n",
    "Note that this notebook uses the following Python dependencies not included in `requirements.txt`:\n",
    "\n",
    "* pandas"
   ]
  },
  {
   "cell_type": "code",
   "execution_count": 21,
   "metadata": {
    "pycharm": {
     "name": "#%%\n"
    }
   },
   "outputs": [],
   "source": [
    "# Set your own STEAMSHIP_PROFILE here, or set it to `None` if you're not sure what that means.\n",
    "STEAMSHIP_PROFILE=\"staging\"\n",
    "\n",
    "# This should match the value found in the `handle` field of `steamship.json`\n",
    "PACKAGE_HANDLE=\"chat-analytics\""
   ]
  },
  {
   "cell_type": "code",
   "execution_count": 22,
   "metadata": {},
   "outputs": [
    {
     "name": "stdout",
     "output_type": "stream",
     "text": [
      "You are operating within workspace: default\n"
     ]
    }
   ],
   "source": [
    "# Create our client.\n",
    "from steamship import Steamship, AppInstance, File, Block, Tag\n",
    "\n",
    "ship = Steamship(profile=STEAMSHIP_PROFILE, create_space=True)\n",
    "\n",
    "print(f\"You are operating within workspace: {ship.config.space_handle or 'default'}\")"
   ]
  },
  {
   "cell_type": "code",
   "execution_count": 26,
   "metadata": {
    "pycharm": {
     "name": "#%%\n"
    }
   },
   "outputs": [
    {
     "name": "stdout",
     "output_type": "stream",
     "text": [
      "Your package handle is: brainy-guru-l0gh5\n"
     ]
    }
   ],
   "source": [
    "# Create a new instance of the package\n",
    "instance = ship.use(PACKAGE_HANDLE)\n",
    "print(f\"Your package handle is: {instance.handle}\")"
   ]
  },
  {
   "cell_type": "code",
   "execution_count": null,
   "metadata": {
    "pycharm": {
     "name": "#%%\n"
    }
   },
   "outputs": [],
   "source": [
    "# Load up some data to analyze\n",
    "from os import path\n",
    "file_path = path.join('..', 'tests', 'data', 'chat1.json')\n",
    "\n",
    "tag_task = file.tag(plugin_instance=instance.handle)\n",
    "print(f\"Your task ID is {tag_task.task.task_id}\")"
   ]
  },
  {
   "cell_type": "code",
   "execution_count": null,
   "metadata": {
    "pycharm": {
     "name": "#%%\n"
    }
   },
   "outputs": [],
   "source": [
    "# All plugin operations are asynchronous.\n",
    "# Calling .wait() will wait until a timeout is reached or until we have a result\n",
    "tag_task.wait()"
   ]
  },
  {
   "cell_type": "code",
   "execution_count": null,
   "metadata": {
    "pycharm": {
     "name": "#%%\n"
    }
   },
   "outputs": [],
   "source": [
    "# Find the blocks\n",
    "blocks = Block.query(ship, tag_filter_query='blocktag').data.blocks"
   ]
  },
  {
   "cell_type": "code",
   "execution_count": null,
   "metadata": {
    "pycharm": {
     "name": "#%%\n"
    }
   },
   "outputs": [],
   "source": [
    "for block in blocks:\n",
    "    for tag in block.tags:\n",
    "        text = block.text[tag.start_idx or 0:tag.end_idx or -1]\n",
    "        print(f\"[{tag.kind} / {tag.name}]\\n{text}\")"
   ]
  },
  {
   "cell_type": "code",
   "execution_count": null,
   "metadata": {
    "pycharm": {
     "name": "#%%\n"
    }
   },
   "outputs": [],
   "source": []
  },
  {
   "cell_type": "code",
   "execution_count": null,
   "metadata": {
    "pycharm": {
     "name": "#%%\n"
    }
   },
   "outputs": [],
   "source": []
  }
 ],
 "metadata": {
  "kernelspec": {
   "display_name": "Python 3",
   "language": "python",
   "name": "python3"
  },
  "language_info": {
   "codemirror_mode": {
    "name": "ipython",
    "version": 2
   },
   "file_extension": ".py",
   "mimetype": "text/x-python",
   "name": "python",
   "nbconvert_exporter": "python",
   "pygments_lexer": "ipython2",
   "version": "2.7.6"
  }
 },
 "nbformat": 4,
 "nbformat_minor": 0
}