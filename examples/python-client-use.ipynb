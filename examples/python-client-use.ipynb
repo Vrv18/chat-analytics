{
 "cells": [
  {
   "cell_type": "markdown",
   "metadata": {},
   "source": [
    "# Example Use - Python Client\n",
    "\n",
    "This notebook provides an example of using `chat-analytics-app` from Steamship's Python client.\n",
    "\n",
    "To authenticate with Steamship, install the Steamship CLI with:\n",
    "\n",
    "```bash\n",
    "> npm install -g @steamship/cli\n",
    "```\n",
    "\n",
    "And then login with:\n",
    "\n",
    "```bash\n",
    "> ship login\n",
    "```\n",
    "\n",
    "Note that this notebook uses the following Python dependencies not included in `requirements.txt`:\n",
    "\n",
    "* pandas"
   ]
  },
  {
   "cell_type": "code",
   "execution_count": 1,
   "metadata": {
    "pycharm": {
     "name": "#%%\n"
    }
   },
   "outputs": [],
   "source": [
    "# Set your own STEAMSHIP_PROFILE here, or set it to `None` if you're not sure what that means.\n",
    "STEAMSHIP_PROFILE=\"staging\"\n",
    "\n",
    "# This should match the value found in the `handle` field of `steamship.json`\n",
    "PACKAGE_HANDLE=\"chat-analytics\""
   ]
  },
  {
   "cell_type": "code",
   "execution_count": 2,
   "metadata": {},
   "outputs": [
    {
     "name": "stdout",
     "output_type": "stream",
     "text": [
      "You are operating within workspace: cuddly-pine-d7ug0 with ID D1E7BC0A-2F3E-4D32-9C89-66C7EBEC69E3\n"
     ]
    }
   ],
   "source": [
    "# Create our client.\n",
    "from steamship import Steamship, AppInstance, File, Block, Tag\n",
    "\n",
    "ship = Steamship(profile=STEAMSHIP_PROFILE, create_space=True)\n",
    "\n",
    "print(f\"You are operating within workspace: {ship.config.space_handle or 'default'} with ID {ship.config.space_id}\")"
   ]
  },
  {
   "cell_type": "code",
   "execution_count": 3,
   "metadata": {
    "pycharm": {
     "name": "#%%\n"
    }
   },
   "outputs": [
    {
     "name": "stdout",
     "output_type": "stream",
     "text": [
      "Your package handle is: gifted-grove-xlk66\n"
     ]
    }
   ],
   "source": [
    "# Create a new instance of the package\n",
    "instance = ship.use(PACKAGE_HANDLE)\n",
    "print(f\"Your package handle is: {instance.handle}\")"
   ]
  },
  {
   "cell_type": "code",
   "execution_count": 4,
   "metadata": {
    "pycharm": {
     "name": "#%%\n"
    }
   },
   "outputs": [
    {
     "ename": "NameError",
     "evalue": "name 'file' is not defined",
     "output_type": "error",
     "traceback": [
      "\u001B[0;31m---------------------------------------------------------------------------\u001B[0m",
      "\u001B[0;31mNameError\u001B[0m                                 Traceback (most recent call last)",
      "Input \u001B[0;32mIn [4]\u001B[0m, in \u001B[0;36m<cell line: 5>\u001B[0;34m()\u001B[0m\n\u001B[1;32m      2\u001B[0m \u001B[38;5;28;01mfrom\u001B[39;00m \u001B[38;5;21;01mos\u001B[39;00m \u001B[38;5;28;01mimport\u001B[39;00m path\n\u001B[1;32m      3\u001B[0m file_path \u001B[38;5;241m=\u001B[39m path\u001B[38;5;241m.\u001B[39mjoin(\u001B[38;5;124m'\u001B[39m\u001B[38;5;124m..\u001B[39m\u001B[38;5;124m'\u001B[39m, \u001B[38;5;124m'\u001B[39m\u001B[38;5;124mtests\u001B[39m\u001B[38;5;124m'\u001B[39m, \u001B[38;5;124m'\u001B[39m\u001B[38;5;124mdata\u001B[39m\u001B[38;5;124m'\u001B[39m, \u001B[38;5;124m'\u001B[39m\u001B[38;5;124mchat1.json\u001B[39m\u001B[38;5;124m'\u001B[39m)\n\u001B[0;32m----> 5\u001B[0m tag_task \u001B[38;5;241m=\u001B[39m \u001B[43mfile\u001B[49m\u001B[38;5;241m.\u001B[39mtag(plugin_instance\u001B[38;5;241m=\u001B[39minstance\u001B[38;5;241m.\u001B[39mhandle)\n\u001B[1;32m      6\u001B[0m \u001B[38;5;28mprint\u001B[39m(\u001B[38;5;124mf\u001B[39m\u001B[38;5;124m\"\u001B[39m\u001B[38;5;124mYour task ID is \u001B[39m\u001B[38;5;132;01m{\u001B[39;00mtag_task\u001B[38;5;241m.\u001B[39mtask\u001B[38;5;241m.\u001B[39mtask_id\u001B[38;5;132;01m}\u001B[39;00m\u001B[38;5;124m\"\u001B[39m)\n",
      "\u001B[0;31mNameError\u001B[0m: name 'file' is not defined"
     ]
    }
   ],
   "source": [
    "# Load up some data to analyze\n",
    "from os import path\n",
    "file_path = path.join('..', 'tests', 'data', 'chat1.json')\n",
    "\n",
    "tag_task = file.tag(plugin_instance=instance.handle)\n",
    "print(f\"Your task ID is {tag_task.task.task_id}\")"
   ]
  },
  {
   "cell_type": "code",
   "execution_count": null,
   "metadata": {
    "pycharm": {
     "name": "#%%\n"
    }
   },
   "outputs": [],
   "source": [
    "# All plugin operations are asynchronous.\n",
    "# Calling .wait() will wait until a timeout is reached or until we have a result\n",
    "tag_task.wait()"
   ]
  },
  {
   "cell_type": "code",
   "execution_count": null,
   "metadata": {
    "pycharm": {
     "name": "#%%\n"
    }
   },
   "outputs": [],
   "source": [
    "# Find the blocks\n",
    "blocks = Block.query(ship, tag_filter_query='blocktag').data.blocks"
   ]
  },
  {
   "cell_type": "code",
   "execution_count": null,
   "metadata": {
    "pycharm": {
     "name": "#%%\n"
    }
   },
   "outputs": [],
   "source": [
    "for block in blocks:\n",
    "    for tag in block.tags:\n",
    "        text = block.text[tag.start_idx or 0:tag.end_idx or -1]\n",
    "        print(f\"[{tag.kind} / {tag.name}]\\n{text}\")"
   ]
  },
  {
   "cell_type": "code",
   "execution_count": null,
   "metadata": {
    "pycharm": {
     "name": "#%%\n"
    }
   },
   "outputs": [],
   "source": []
  },
  {
   "cell_type": "code",
   "execution_count": null,
   "metadata": {
    "pycharm": {
     "name": "#%%\n"
    }
   },
   "outputs": [],
   "source": []
  }
 ],
 "metadata": {
  "kernelspec": {
   "display_name": "Python 3",
   "language": "python",
   "name": "python3"
  },
  "language_info": {
   "codemirror_mode": {
    "name": "ipython",
    "version": 2
   },
   "file_extension": ".py",
   "mimetype": "text/x-python",
   "name": "python",
   "nbconvert_exporter": "python",
   "pygments_lexer": "ipython2",
   "version": "2.7.6"
  }
 },
 "nbformat": 4,
 "nbformat_minor": 0
}