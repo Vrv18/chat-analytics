{
 "cells": [
  {
   "cell_type": "code",
   "execution_count": null,
   "metadata": {
    "pycharm": {
     "name": "#%%\n"
    }
   },
   "outputs": [],
   "source": [
    "%pip install --upgrade steamship pydantic"
   ]
  },
  {
   "cell_type": "code",
   "execution_count": null,
   "metadata": {
    "pycharm": {
     "name": "#%%\n"
    }
   },
   "outputs": [],
   "source": [
    "from steamship import Steamship\n",
    "from datetime import datetime\n",
    "from enum import Enum\n",
    "from typing import Optional, List\n",
    "\n",
    "from pydantic import BaseModel, Field, parse_obj_as"
   ]
  },
  {
   "cell_type": "markdown",
   "metadata": {},
   "source": [
    "# chat-analytics Demo - Steamship Python Client\n",
    "\n",
    "This notebook provides an example of using `chat-analytics` from Steamship's Python client.\n",
    "\n",
    "To authenticate with Steamship, install the Steamship CLI with:\n",
    "\n",
    "```bash\n",
    "> npm install -g @steamship/cli\n",
    "```\n",
    "\n",
    "And then login with:\n",
    "\n",
    "```bash\n",
    "> ship login\n",
    "```\n",
    "\n",
    "Note that this notebook uses the following Python dependencies not included in `requirements.txt`:\n",
    "\n",
    "* pandas"
   ]
  },
  {
   "cell_type": "code",
   "execution_count": null,
   "metadata": {
    "pycharm": {
     "name": "#%%\n"
    }
   },
   "outputs": [],
   "source": [
    "# This should match the value found in the `handle` field of `steamship.json`\n",
    "PACKAGE_HANDLE=\"chat-analytics\"\n",
    "\n",
    "# The handle of the particular instance of the package we'll be working with.\n",
    "INSTANCE_HANDLE = \"my-instance-08\""
   ]
  },
  {
   "cell_type": "code",
   "execution_count": null,
   "metadata": {},
   "outputs": [],
   "source": [
    "# Create an instance of the package. Credentials will be loaded from ~/.steamship.json\n",
    "instance = Steamship.use(PACKAGE_HANDLE, INSTANCE_HANDLE)\n",
    "\n",
    "print(\n",
    "    f\"Created package instance {instance.handle} of {PACKAGE_HANDLE} in workspace {instance.client.config.workspace_handle or 'default'}\")"
   ]
  },
  {
   "cell_type": "code",
   "execution_count": null,
   "metadata": {
    "pycharm": {
     "name": "#%%\n"
    }
   },
   "outputs": [],
   "source": [
    "# These model classes contain the data shape that the chat-analytics app expects as input/output\n",
    "# They can be found in src/api_spec.py of the chat-analytics package on GitHub\n",
    "\n",
    "class Intent(str, Enum):\n",
    "    \"\"\"Intent of a chat message.\"\"\"\n",
    "\n",
    "    SALUTATION = \"Salutation\"\n",
    "    PRAISE = \"Praise\"\n",
    "    COMPLAINT = \"Complaint\"\n",
    "    QUESTION = \"Question\"\n",
    "    REQUEST = \"Request\"\n",
    "    EXPLANATION = \"Explanation\"\n",
    "\n",
    "\n",
    "class Sentiment(str, Enum):\n",
    "    \"\"\"Sentiment of a chat message.\"\"\"\n",
    "\n",
    "    POSITIVE = \"Positive\"\n",
    "    NEGATIVE = \"Negative\"\n",
    "    NEUTRAL = \"Neutral\"\n",
    "\n",
    "class Message(BaseModel):\n",
    "    \"\"\"Structured representation of a chat message.\"\"\"\n",
    "\n",
    "    message_id: str = Field(example=\"001\")\n",
    "    timestamp: datetime\n",
    "    user_id: str = Field(example=\"u001\")\n",
    "    text: str = Field(example=\"Hello. This is a message.\")\n",
    "    sentiment: Optional[Sentiment]\n",
    "    intent: Optional[Intent]\n",
    "    root_message_id: Optional[str] = Field(example=\"001\")\n",
    "\n",
    "    def dict(self, format_dates: bool = False, format_enums: bool = False, **kwargs):\n",
    "        \"\"\"Transform object into a dictionary.\"\"\"\n",
    "        output = super().dict(**kwargs)\n",
    "        for k, v in output.items():\n",
    "            if format_dates and isinstance(v, datetime):\n",
    "                output[k] = v.isoformat()\n",
    "            if format_enums and isinstance(v, Enum):\n",
    "                output[k] = v.value\n",
    "        return output\n"
   ]
  },
  {
   "cell_type": "code",
   "execution_count": null,
   "metadata": {
    "pycharm": {
     "name": "#%%\n"
    }
   },
   "outputs": [],
   "source": [
    "# Here is an example chat, using the model classes above\n",
    "\n",
    "MESSAGES = [\n",
    "    Message(\n",
    "        message_id=\"0\",\n",
    "        timestamp=datetime(2022, 6, 15, 16, 18, 33, 100),\n",
    "        user_id=\"1\",\n",
    "        text=\"Hi Team!\",\n",
    "        intent=Intent.SALUTATION,\n",
    "    ),\n",
    "    Message(\n",
    "        message_id=\"1\",\n",
    "        timestamp=datetime(2022, 6, 15, 16, 18, 33, 960),\n",
    "        user_id=\"1\",\n",
    "        text=\"Thanks for getting back to us on the styling issue \"\n",
    "        \"we had last week. Font colours are so important for productivity.\",\n",
    "        intent=Intent.PRAISE,\n",
    "    ),\n",
    "    Message(\n",
    "        message_id=\"2\",\n",
    "        timestamp=datetime(2022, 6, 15, 16, 18, 34, 450),\n",
    "        user_id=\"1\",\n",
    "        text=\"I noticed the Slack bot being very verbose lately\",\n",
    "    ),\n",
    "    Message(\n",
    "        message_id=\"3\",\n",
    "        timestamp=datetime(2022, 6, 15, 16, 18, 34, 990),\n",
    "        user_id=\"1\",\n",
    "        text=\"Is there a way to decrease the verbosity level?\",\n",
    "    ),\n",
    "    Message(\n",
    "        message_id=\"4\",\n",
    "        timestamp=datetime(2022, 6, 15, 16, 18, 36, 211),\n",
    "        user_id=\"1\",\n",
    "        text=\"I want the bot to ignore thank you messages and stop \"\n",
    "        \"asking our customers to assign messages to threads.\",\n",
    "    ),\n",
    "    Message(\n",
    "        message_id=\"5\",\n",
    "        timestamp=datetime(2022, 6, 15, 16, 18, 42, 97),\n",
    "        user_id=\"1\",\n",
    "        text=\"Our clients are not technical so working with threads is difficult.\",\n",
    "    ),\n",
    "    Message(\n",
    "        message_id=\"6\",\n",
    "        timestamp=datetime(2022, 6, 15, 16, 18, 44, 155),\n",
    "        user_id=\"1\",\n",
    "        text=\"Thanks again, looking forward to your response!\",\n",
    "    ),\n",
    "    Message(\n",
    "        message_id=\"7\",\n",
    "        timestamp=datetime(2022, 6, 15, 16, 18, 44, 822),\n",
    "        user_id=\"1\",\n",
    "        text=\"Oh, before I forget. Is there a settings to change the font size?\",\n",
    "    ),\n",
    "]"
   ]
  },
  {
   "cell_type": "code",
   "execution_count": null,
   "metadata": {
    "pycharm": {
     "name": "#%%\n"
    }
   },
   "outputs": [],
   "source": [
    "# Now let's use the package.\n",
    "# We'll call the \"analyze\" method, passing it the MESSAGES list formatted as JSON.\n",
    "response = instance.post(\n",
    "    \"analyze\",\n",
    "    chat_stream=[message.dict(format_dates=True, format_enums=True) for message in MESSAGES],\n",
    ")\n",
    "\n",
    "output_stream = parse_obj_as(List[Message], response[\"chat_stream\"])"
   ]
  },
  {
   "cell_type": "code",
   "execution_count": null,
   "metadata": {
    "pycharm": {
     "name": "#%%\n"
    }
   },
   "outputs": [],
   "source": [
    "# The output chat stream has additional fields completed:\n",
    "# - The intent\n",
    "for message in output_stream:\n",
    "    indent = \"\" if message.root_message_id == message.message_id else \"    \"\n",
    "    print(f\"{indent}[{message.message_id}] {message.text}\")\n",
    "    print(f\"{indent}    Sentiment={message.sentiment}, Intent={message.intent}, root_message_id={message.root_message_id}\")\n",
    "print(output_stream)"
   ]
  }
 ],
 "metadata": {
  "kernelspec": {
   "display_name": "Python 3",
   "language": "python",
   "name": "python3"
  },
  "language_info": {
   "codemirror_mode": {
    "name": "ipython",
    "version": 2
   },
   "file_extension": ".py",
   "mimetype": "text/x-python",
   "name": "python",
   "nbconvert_exporter": "python",
   "pygments_lexer": "ipython2",
   "version": "2.7.6"
  }
 },
 "nbformat": 4,
 "nbformat_minor": 0
}
