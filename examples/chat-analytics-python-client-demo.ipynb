{
 "cells": [
  {
   "cell_type": "code",
   "execution_count": 19,
   "outputs": [
    {
     "name": "stdout",
     "output_type": "stream",
     "text": [
      "Requirement already satisfied: steamship in /Users/edwardbenson/steamship-apps/chat-analytics-app/.venv/lib/python3.8/site-packages (2.1.28)\r\n",
      "Requirement already satisfied: pydantic in /Users/edwardbenson/steamship-apps/chat-analytics-app/.venv/lib/python3.8/site-packages (1.9.0)\r\n",
      "Collecting pydantic\r\n",
      "  Using cached pydantic-1.10.2-cp38-cp38-macosx_11_0_arm64.whl (2.6 MB)\r\n",
      "Requirement already satisfied: aiohttp==3.8.1 in /Users/edwardbenson/steamship-apps/chat-analytics-app/.venv/lib/python3.8/site-packages (from steamship) (3.8.1)\r\n",
      "Requirement already satisfied: inflection==0.5.1 in /Users/edwardbenson/steamship-apps/chat-analytics-app/.venv/lib/python3.8/site-packages (from steamship) (0.5.1)\r\n",
      "Requirement already satisfied: fluent-logger==0.10.0 in /Users/edwardbenson/steamship-apps/chat-analytics-app/.venv/lib/python3.8/site-packages (from steamship) (0.10.0)\r\n",
      "Requirement already satisfied: requests==2.27.1 in /Users/edwardbenson/steamship-apps/chat-analytics-app/.venv/lib/python3.8/site-packages (from steamship) (2.27.1)\r\n",
      "Requirement already satisfied: typing-extensions>=3.7.4.3 in /Users/edwardbenson/steamship-apps/chat-analytics-app/.venv/lib/python3.8/site-packages (from pydantic) (4.3.0)\r\n",
      "Requirement already satisfied: attrs>=17.3.0 in /Users/edwardbenson/steamship-apps/chat-analytics-app/.venv/lib/python3.8/site-packages (from aiohttp==3.8.1->steamship) (22.1.0)\r\n",
      "Requirement already satisfied: frozenlist>=1.1.1 in /Users/edwardbenson/steamship-apps/chat-analytics-app/.venv/lib/python3.8/site-packages (from aiohttp==3.8.1->steamship) (1.3.1)\r\n",
      "Requirement already satisfied: charset-normalizer<3.0,>=2.0 in /Users/edwardbenson/steamship-apps/chat-analytics-app/.venv/lib/python3.8/site-packages (from aiohttp==3.8.1->steamship) (2.0.12)\r\n",
      "Requirement already satisfied: multidict<7.0,>=4.5 in /Users/edwardbenson/steamship-apps/chat-analytics-app/.venv/lib/python3.8/site-packages (from aiohttp==3.8.1->steamship) (6.0.2)\r\n",
      "Requirement already satisfied: async-timeout<5.0,>=4.0.0a3 in /Users/edwardbenson/steamship-apps/chat-analytics-app/.venv/lib/python3.8/site-packages (from aiohttp==3.8.1->steamship) (4.0.2)\r\n",
      "Requirement already satisfied: aiosignal>=1.1.2 in /Users/edwardbenson/steamship-apps/chat-analytics-app/.venv/lib/python3.8/site-packages (from aiohttp==3.8.1->steamship) (1.2.0)\r\n",
      "Requirement already satisfied: yarl<2.0,>=1.0 in /Users/edwardbenson/steamship-apps/chat-analytics-app/.venv/lib/python3.8/site-packages (from aiohttp==3.8.1->steamship) (1.8.1)\r\n",
      "Requirement already satisfied: msgpack>1.0 in /Users/edwardbenson/steamship-apps/chat-analytics-app/.venv/lib/python3.8/site-packages (from fluent-logger==0.10.0->steamship) (1.0.4)\r\n",
      "Requirement already satisfied: certifi>=2017.4.17 in /Users/edwardbenson/steamship-apps/chat-analytics-app/.venv/lib/python3.8/site-packages (from requests==2.27.1->steamship) (2022.6.15)\r\n",
      "Requirement already satisfied: urllib3<1.27,>=1.21.1 in /Users/edwardbenson/steamship-apps/chat-analytics-app/.venv/lib/python3.8/site-packages (from requests==2.27.1->steamship) (1.26.12)\r\n",
      "Requirement already satisfied: idna<4,>=2.5 in /Users/edwardbenson/steamship-apps/chat-analytics-app/.venv/lib/python3.8/site-packages (from requests==2.27.1->steamship) (3.3)\r\n",
      "\u001B[33mWARNING: You are using pip version 21.1.2; however, version 22.2.2 is available.\r\n",
      "You should consider upgrading via the '/Users/edwardbenson/steamship-apps/chat-analytics-app/.venv/bin/python -m pip install --upgrade pip' command.\u001B[0m\r\n",
      "Note: you may need to restart the kernel to use updated packages.\n"
     ]
    }
   ],
   "source": [
    "%pip install --upgrade steamship pydantic"
   ],
   "metadata": {
    "collapsed": false,
    "pycharm": {
     "name": "#%%\n"
    }
   }
  },
  {
   "cell_type": "code",
   "execution_count": 1,
   "outputs": [],
   "source": [
    "from steamship import Steamship\n",
    "from datetime import datetime\n",
    "from enum import Enum\n",
    "from typing import Optional, List\n",
    "\n",
    "from pydantic import BaseModel, Field, parse_obj_as"
   ],
   "metadata": {
    "collapsed": false,
    "pycharm": {
     "name": "#%%\n"
    }
   }
  },
  {
   "cell_type": "markdown",
   "metadata": {},
   "source": [
    "# chat-analytics Demo - Steamship Python Client\n",
    "\n",
    "This notebook provides an example of using `chat-analytics` from Steamship's Python client.\n",
    "\n",
    "To authenticate with Steamship, install the Steamship CLI with:\n",
    "\n",
    "```bash\n",
    "> npm install -g @steamship/cli\n",
    "```\n",
    "\n",
    "And then login with:\n",
    "\n",
    "```bash\n",
    "> ship login\n",
    "```\n",
    "\n",
    "Note that this notebook uses the following Python dependencies not included in `requirements.txt`:\n",
    "\n",
    "* pandas"
   ]
  },
  {
   "cell_type": "code",
   "execution_count": 2,
   "metadata": {
    "pycharm": {
     "name": "#%%\n"
    }
   },
   "outputs": [],
   "source": [
    "# This should match the value found in the `handle` field of `steamship.json`\n",
    "PACKAGE_HANDLE=\"chat-analytics\"\n",
    "\n",
    "# The handle of the particular instance of the package we'll be working with.\n",
    "INSTANCE_HANDLE = \"my-instance-08\""
   ]
  },
  {
   "cell_type": "code",
   "execution_count": 3,
   "metadata": {},
   "outputs": [
    {
     "name": "stdout",
     "output_type": "stream",
     "text": [
      "Created package instance my-instance-08 of chat-analytics in workspace my-instance-08\n"
     ]
    }
   ],
   "source": [
    "# Create an instance of the package. Credentials will be loaded from ~/.steamship.json\n",
    "instance = Steamship.use(PACKAGE_HANDLE, INSTANCE_HANDLE)\n",
    "\n",
    "print(\n",
    "    f\"Created package instance {instance.handle} of {PACKAGE_HANDLE} in workspace {instance.client.config.space_handle or 'default'}\")"
   ]
  },
  {
   "cell_type": "code",
   "execution_count": 4,
   "outputs": [],
   "source": [
    "# These model classes contain the data shape that the chat-analytics app expects as input/output\n",
    "# They can be found in src/api_spec.py of the chat-analytics package on GitHub\n",
    "\n",
    "class Intent(str, Enum):\n",
    "    \"\"\"Intent of a chat message.\"\"\"\n",
    "\n",
    "    SALUTATION = \"Salutation\"\n",
    "    PRAISE = \"Praise\"\n",
    "    COMPLAINT = \"Complaint\"\n",
    "    QUESTION = \"Question\"\n",
    "    REQUEST = \"Request\"\n",
    "    EXPLANATION = \"Explanation\"\n",
    "\n",
    "\n",
    "class Sentiment(str, Enum):\n",
    "    \"\"\"Sentiment of a chat message.\"\"\"\n",
    "\n",
    "    POSITIVE = \"Positive\"\n",
    "    NEGATIVE = \"Negative\"\n",
    "    NEUTRAL = \"Neutral\"\n",
    "\n",
    "class Message(BaseModel):\n",
    "    \"\"\"Structured representation of a chat message.\"\"\"\n",
    "\n",
    "    message_id: str = Field(example=\"001\")\n",
    "    timestamp: datetime\n",
    "    user_id: str = Field(example=\"u001\")\n",
    "    text: str = Field(example=\"Hello. This is a message.\")\n",
    "    sentiment: Optional[Sentiment]\n",
    "    intent: Optional[Intent]\n",
    "    root_message_id: Optional[str] = Field(example=\"001\")\n",
    "\n",
    "    def dict(self, format_dates: bool = False, format_enums: bool = False, **kwargs):\n",
    "        \"\"\"Transform object into a dictionary.\"\"\"\n",
    "        output = super().dict(**kwargs)\n",
    "        for k, v in output.items():\n",
    "            if format_dates and isinstance(v, datetime):\n",
    "                output[k] = v.isoformat()\n",
    "            if format_enums and isinstance(v, Enum):\n",
    "                output[k] = v.value\n",
    "        return output\n"
   ],
   "metadata": {
    "collapsed": false,
    "pycharm": {
     "name": "#%%\n"
    }
   }
  },
  {
   "cell_type": "code",
   "execution_count": 9,
   "metadata": {
    "pycharm": {
     "name": "#%%\n"
    }
   },
   "outputs": [],
   "source": [
    "# Here is an example chat, using the model classes above\n",
    "\n",
    "MESSAGES = [\n",
    "    Message(\n",
    "        message_id=\"0\",\n",
    "        timestamp=datetime(2022, 6, 15, 16, 18, 33, 100),\n",
    "        user_id=\"1\",\n",
    "        text=\"Hi Team!\",\n",
    "        intent=Intent.SALUTATION,\n",
    "    ),\n",
    "    Message(\n",
    "        message_id=\"1\",\n",
    "        timestamp=datetime(2022, 6, 15, 16, 18, 33, 960),\n",
    "        user_id=\"1\",\n",
    "        text=\"Thanks for getting back to us on the styling issue \"\n",
    "        \"we had last week. Font colours are so important for productivity.\",\n",
    "        intent=Intent.PRAISE,\n",
    "    ),\n",
    "    Message(\n",
    "        message_id=\"2\",\n",
    "        timestamp=datetime(2022, 6, 15, 16, 18, 34, 450),\n",
    "        user_id=\"1\",\n",
    "        text=\"I noticed the Slack bot being very verbose lately\",\n",
    "    ),\n",
    "    Message(\n",
    "        message_id=\"3\",\n",
    "        timestamp=datetime(2022, 6, 15, 16, 18, 34, 990),\n",
    "        user_id=\"1\",\n",
    "        text=\"Is there a way to decrease the verbosity level?\",\n",
    "    ),\n",
    "    Message(\n",
    "        message_id=\"4\",\n",
    "        timestamp=datetime(2022, 6, 15, 16, 18, 36, 211),\n",
    "        user_id=\"1\",\n",
    "        text=\"I want the bot to ignore thank you messages and stop \"\n",
    "        \"asking our customers to assign messages to threads.\",\n",
    "    ),\n",
    "    Message(\n",
    "        message_id=\"5\",\n",
    "        timestamp=datetime(2022, 6, 15, 16, 18, 42, 97),\n",
    "        user_id=\"1\",\n",
    "        text=\"Our clients are not technical so working with threads is difficult.\",\n",
    "    ),\n",
    "    Message(\n",
    "        message_id=\"6\",\n",
    "        timestamp=datetime(2022, 6, 15, 16, 18, 44, 155),\n",
    "        user_id=\"1\",\n",
    "        text=\"Thanks again, looking forward to your response!\",\n",
    "    ),\n",
    "    Message(\n",
    "        message_id=\"7\",\n",
    "        timestamp=datetime(2022, 6, 15, 16, 18, 44, 822),\n",
    "        user_id=\"1\",\n",
    "        text=\"Oh, before I forget. Is there a settings to change the font size?\",\n",
    "    ),\n",
    "]"
   ]
  },
  {
   "cell_type": "code",
   "execution_count": 10,
   "metadata": {
    "pycharm": {
     "name": "#%%\n"
    }
   },
   "outputs": [],
   "source": [
    "# Now let's use the package.\n",
    "# We'll call the \"analyze\" method, passing it the MESSAGES list formatted as JSON.\n",
    "response = instance.post(\n",
    "    \"analyze\",\n",
    "    chat_stream=[message.dict(format_dates=True, format_enums=True) for message in MESSAGES],\n",
    ")\n",
    "\n",
    "output_stream = parse_obj_as(List[Message], response.data[\"chat_stream\"])"
   ]
  },
  {
   "cell_type": "code",
   "execution_count": 11,
   "metadata": {
    "pycharm": {
     "name": "#%%\n"
    }
   },
   "outputs": [
    {
     "name": "stdout",
     "output_type": "stream",
     "text": [
      "[0] Hi Team!\n",
      "    Sentiment=Positive, Intent=Salutation, root_message_id=0\n",
      "[1] Thanks for getting back to us on the styling issue we had last week. Font colours are so important for productivity.\n",
      "    Sentiment=Positive, Intent=Praise, root_message_id=1\n",
      "[2] I noticed the Slack bot being very verbose lately\n",
      "    Sentiment=Negative, Intent=Complaint, root_message_id=2\n",
      "    [3] Is there a way to decrease the verbosity level?\n",
      "        Sentiment=Neutral, Intent=Question, root_message_id=2\n",
      "    [4] I want the bot to ignore thank you messages and stop asking our customers to assign messages to threads.\n",
      "        Sentiment=Negative, Intent=Request, root_message_id=2\n",
      "    [5] Our clients are not technical so working with threads is difficult.\n",
      "        Sentiment=Negative, Intent=Question, root_message_id=2\n",
      "[6] Thanks again, looking forward to your response!\n",
      "    Sentiment=Positive, Intent=Praise, root_message_id=6\n",
      "    [7] Oh, before I forget. Is there a settings to change the font size?\n",
      "        Sentiment=Neutral, Intent=Question, root_message_id=6\n",
      "[Message(message_id='0', timestamp=datetime.datetime(2022, 6, 15, 16, 18, 33, 100), user_id='1', text='Hi Team!', sentiment=<Sentiment.POSITIVE: 'Positive'>, intent=<Intent.SALUTATION: 'Salutation'>, root_message_id='0'), Message(message_id='1', timestamp=datetime.datetime(2022, 6, 15, 16, 18, 33, 960), user_id='1', text='Thanks for getting back to us on the styling issue we had last week. Font colours are so important for productivity.', sentiment=<Sentiment.POSITIVE: 'Positive'>, intent=<Intent.PRAISE: 'Praise'>, root_message_id='1'), Message(message_id='2', timestamp=datetime.datetime(2022, 6, 15, 16, 18, 34, 450), user_id='1', text='I noticed the Slack bot being very verbose lately', sentiment=<Sentiment.NEGATIVE: 'Negative'>, intent=<Intent.COMPLAINT: 'Complaint'>, root_message_id='2'), Message(message_id='3', timestamp=datetime.datetime(2022, 6, 15, 16, 18, 34, 990), user_id='1', text='Is there a way to decrease the verbosity level?', sentiment=<Sentiment.NEUTRAL: 'Neutral'>, intent=<Intent.QUESTION: 'Question'>, root_message_id='2'), Message(message_id='4', timestamp=datetime.datetime(2022, 6, 15, 16, 18, 36, 211), user_id='1', text='I want the bot to ignore thank you messages and stop asking our customers to assign messages to threads.', sentiment=<Sentiment.NEGATIVE: 'Negative'>, intent=<Intent.REQUEST: 'Request'>, root_message_id='2'), Message(message_id='5', timestamp=datetime.datetime(2022, 6, 15, 16, 18, 42, 97), user_id='1', text='Our clients are not technical so working with threads is difficult.', sentiment=<Sentiment.NEGATIVE: 'Negative'>, intent=<Intent.QUESTION: 'Question'>, root_message_id='2'), Message(message_id='6', timestamp=datetime.datetime(2022, 6, 15, 16, 18, 44, 155), user_id='1', text='Thanks again, looking forward to your response!', sentiment=<Sentiment.POSITIVE: 'Positive'>, intent=<Intent.PRAISE: 'Praise'>, root_message_id='6'), Message(message_id='7', timestamp=datetime.datetime(2022, 6, 15, 16, 18, 44, 822), user_id='1', text='Oh, before I forget. Is there a settings to change the font size?', sentiment=<Sentiment.NEUTRAL: 'Neutral'>, intent=<Intent.QUESTION: 'Question'>, root_message_id='6')]\n"
     ]
    }
   ],
   "source": [
    "# The output chat stream has additional fields completed:\n",
    "# - The intent\n",
    "for message in output_stream:\n",
    "    indent = \"\" if message.root_message_id == message.message_id else \"    \"\n",
    "    print(f\"{indent}[{message.message_id}] {message.text}\")\n",
    "    print(f\"{indent}    Sentiment={message.sentiment}, Intent={message.intent}, root_message_id={message.root_message_id}\")\n",
    "print(output_stream)"
   ]
  },
  {
   "cell_type": "code",
   "execution_count": null,
   "metadata": {
    "pycharm": {
     "name": "#%%\n"
    }
   },
   "outputs": [],
   "source": []
  }
 ],
 "metadata": {
  "kernelspec": {
   "display_name": "Python 3",
   "language": "python",
   "name": "python3"
  },
  "language_info": {
   "codemirror_mode": {
    "name": "ipython",
    "version": 2
   },
   "file_extension": ".py",
   "mimetype": "text/x-python",
   "name": "python",
   "nbconvert_exporter": "python",
   "pygments_lexer": "ipython2",
   "version": "2.7.6"
  }
 },
 "nbformat": 4,
 "nbformat_minor": 0
}