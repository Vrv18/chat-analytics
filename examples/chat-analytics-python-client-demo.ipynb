{
 "cells": [
  {
   "cell_type": "code",
   "execution_count": 19,
   "outputs": [
    {
     "name": "stdout",
     "output_type": "stream",
     "text": [
      "Requirement already satisfied: steamship in /Users/edwardbenson/steamship-apps/chat-analytics-app/.venv/lib/python3.8/site-packages (2.1.28)\r\n",
      "Requirement already satisfied: pydantic in /Users/edwardbenson/steamship-apps/chat-analytics-app/.venv/lib/python3.8/site-packages (1.9.0)\r\n",
      "Collecting pydantic\r\n",
      "  Using cached pydantic-1.10.2-cp38-cp38-macosx_11_0_arm64.whl (2.6 MB)\r\n",
      "Requirement already satisfied: aiohttp==3.8.1 in /Users/edwardbenson/steamship-apps/chat-analytics-app/.venv/lib/python3.8/site-packages (from steamship) (3.8.1)\r\n",
      "Requirement already satisfied: inflection==0.5.1 in /Users/edwardbenson/steamship-apps/chat-analytics-app/.venv/lib/python3.8/site-packages (from steamship) (0.5.1)\r\n",
      "Requirement already satisfied: fluent-logger==0.10.0 in /Users/edwardbenson/steamship-apps/chat-analytics-app/.venv/lib/python3.8/site-packages (from steamship) (0.10.0)\r\n",
      "Requirement already satisfied: requests==2.27.1 in /Users/edwardbenson/steamship-apps/chat-analytics-app/.venv/lib/python3.8/site-packages (from steamship) (2.27.1)\r\n",
      "Requirement already satisfied: typing-extensions>=3.7.4.3 in /Users/edwardbenson/steamship-apps/chat-analytics-app/.venv/lib/python3.8/site-packages (from pydantic) (4.3.0)\r\n",
      "Requirement already satisfied: attrs>=17.3.0 in /Users/edwardbenson/steamship-apps/chat-analytics-app/.venv/lib/python3.8/site-packages (from aiohttp==3.8.1->steamship) (22.1.0)\r\n",
      "Requirement already satisfied: frozenlist>=1.1.1 in /Users/edwardbenson/steamship-apps/chat-analytics-app/.venv/lib/python3.8/site-packages (from aiohttp==3.8.1->steamship) (1.3.1)\r\n",
      "Requirement already satisfied: charset-normalizer<3.0,>=2.0 in /Users/edwardbenson/steamship-apps/chat-analytics-app/.venv/lib/python3.8/site-packages (from aiohttp==3.8.1->steamship) (2.0.12)\r\n",
      "Requirement already satisfied: multidict<7.0,>=4.5 in /Users/edwardbenson/steamship-apps/chat-analytics-app/.venv/lib/python3.8/site-packages (from aiohttp==3.8.1->steamship) (6.0.2)\r\n",
      "Requirement already satisfied: async-timeout<5.0,>=4.0.0a3 in /Users/edwardbenson/steamship-apps/chat-analytics-app/.venv/lib/python3.8/site-packages (from aiohttp==3.8.1->steamship) (4.0.2)\r\n",
      "Requirement already satisfied: aiosignal>=1.1.2 in /Users/edwardbenson/steamship-apps/chat-analytics-app/.venv/lib/python3.8/site-packages (from aiohttp==3.8.1->steamship) (1.2.0)\r\n",
      "Requirement already satisfied: yarl<2.0,>=1.0 in /Users/edwardbenson/steamship-apps/chat-analytics-app/.venv/lib/python3.8/site-packages (from aiohttp==3.8.1->steamship) (1.8.1)\r\n",
      "Requirement already satisfied: msgpack>1.0 in /Users/edwardbenson/steamship-apps/chat-analytics-app/.venv/lib/python3.8/site-packages (from fluent-logger==0.10.0->steamship) (1.0.4)\r\n",
      "Requirement already satisfied: certifi>=2017.4.17 in /Users/edwardbenson/steamship-apps/chat-analytics-app/.venv/lib/python3.8/site-packages (from requests==2.27.1->steamship) (2022.6.15)\r\n",
      "Requirement already satisfied: urllib3<1.27,>=1.21.1 in /Users/edwardbenson/steamship-apps/chat-analytics-app/.venv/lib/python3.8/site-packages (from requests==2.27.1->steamship) (1.26.12)\r\n",
      "Requirement already satisfied: idna<4,>=2.5 in /Users/edwardbenson/steamship-apps/chat-analytics-app/.venv/lib/python3.8/site-packages (from requests==2.27.1->steamship) (3.3)\r\n",
      "\u001B[33mWARNING: You are using pip version 21.1.2; however, version 22.2.2 is available.\r\n",
      "You should consider upgrading via the '/Users/edwardbenson/steamship-apps/chat-analytics-app/.venv/bin/python -m pip install --upgrade pip' command.\u001B[0m\r\n",
      "Note: you may need to restart the kernel to use updated packages.\n"
     ]
    }
   ],
   "source": [
    "%pip install --upgrade steamship pydantic"
   ],
   "metadata": {
    "collapsed": false,
    "pycharm": {
     "name": "#%%\n"
    }
   }
  },
  {
   "cell_type": "code",
   "execution_count": 49,
   "outputs": [],
   "source": [
    "from steamship import Steamship\n",
    "from datetime import datetime\n",
    "from enum import Enum\n",
    "from typing import Optional, List\n",
    "\n",
    "from pydantic import BaseModel, Field, parse_obj_as"
   ],
   "metadata": {
    "collapsed": false,
    "pycharm": {
     "name": "#%%\n"
    }
   }
  },
  {
   "cell_type": "markdown",
   "metadata": {},
   "source": [
    "# chat-analytics Demo - Steamship Python Client\n",
    "\n",
    "This notebook provides an example of using `chat-analytics` from Steamship's Python client.\n",
    "\n",
    "To authenticate with Steamship, install the Steamship CLI with:\n",
    "\n",
    "```bash\n",
    "> npm install -g @steamship/cli\n",
    "```\n",
    "\n",
    "And then login with:\n",
    "\n",
    "```bash\n",
    "> ship login\n",
    "```\n",
    "\n",
    "Note that this notebook uses the following Python dependencies not included in `requirements.txt`:\n",
    "\n",
    "* pandas"
   ]
  },
  {
   "cell_type": "code",
   "execution_count": 50,
   "metadata": {
    "pycharm": {
     "name": "#%%\n"
    }
   },
   "outputs": [],
   "source": [
    "# This should match the value found in the `handle` field of `steamship.json`\n",
    "PACKAGE_HANDLE=\"chat-analytics\"\n",
    "\n",
    "# The handle of the particular instance of the package we'll be working with.\n",
    "INSTANCE_HANDLE = \"my-instance-05\""
   ]
  },
  {
   "cell_type": "code",
   "execution_count": 51,
   "metadata": {},
   "outputs": [
    {
     "name": "stdout",
     "output_type": "stream",
     "text": [
      "Created package instance my-instance-05 of chat-analytics in workspace my-instance-05\n"
     ]
    }
   ],
   "source": [
    "# Create an instance of the package. Credentials will be loaded from ~/.steamship.json\n",
    "instance = Steamship.use(PACKAGE_HANDLE, INSTANCE_HANDLE)\n",
    "\n",
    "print(\n",
    "    f\"Created package instance {instance.handle} of {PACKAGE_HANDLE} in workspace {instance.client.config.space_handle or 'default'}\")"
   ]
  },
  {
   "cell_type": "code",
   "execution_count": 52,
   "outputs": [],
   "source": [
    "# These model classes contain the data shape that the chat-analytics app expects as input/output\n",
    "# They can be found in src/api_spec.py of the chat-analytics package on GitHub\n",
    "\n",
    "class Intent(str, Enum):\n",
    "    \"\"\"Intent of a chat message.\"\"\"\n",
    "\n",
    "    SALUTATION = \"Salutation\"\n",
    "    PRAISE = \"Praise\"\n",
    "    COMPLAINT = \"Complaint\"\n",
    "    QUESTION = \"Question\"\n",
    "    REQUEST = \"Request\"\n",
    "    EXPLANATION = \"Explanation\"\n",
    "\n",
    "\n",
    "class Sentiment(str, Enum):\n",
    "    \"\"\"Sentiment of a chat message.\"\"\"\n",
    "\n",
    "    POSITIVE = \"Positive\"\n",
    "    NEGATIVE = \"Negative\"\n",
    "    NEUTRAL = \"Neutral\"\n",
    "\n",
    "class Message(BaseModel):\n",
    "    \"\"\"Structured representation of a chat message.\"\"\"\n",
    "\n",
    "    message_id: str = Field(example=\"001\")\n",
    "    timestamp: datetime\n",
    "    user_id: str = Field(example=\"u001\")\n",
    "    text: str = Field(example=\"Hello. This is a message.\")\n",
    "    sentiment: Optional[Sentiment]\n",
    "    intent: Optional[Intent]\n",
    "    root_message_id: Optional[str] = Field(example=\"001\")\n",
    "\n",
    "    def dict(self, format_dates: bool = False, format_enums: bool = False, **kwargs):\n",
    "        \"\"\"Transform object into a dictionary.\"\"\"\n",
    "        output = super().dict(**kwargs)\n",
    "        for k, v in output.items():\n",
    "            if format_dates and isinstance(v, datetime):\n",
    "                output[k] = v.isoformat()\n",
    "            if format_enums and isinstance(v, Enum):\n",
    "                output[k] = v.value\n",
    "        return output\n"
   ],
   "metadata": {
    "collapsed": false,
    "pycharm": {
     "name": "#%%\n"
    }
   }
  },
  {
   "cell_type": "code",
   "execution_count": 53,
   "metadata": {
    "pycharm": {
     "name": "#%%\n"
    }
   },
   "outputs": [],
   "source": [
    "# Here is an example chat, using the model classes above\n",
    "\n",
    "MESSAGES = [\n",
    "    Message(\n",
    "        message_id=\"0\",\n",
    "        timestamp=datetime(2022, 6, 15, 16, 18, 33, 100),\n",
    "        user_id=\"1\",\n",
    "        text=\"Hi Team!\",\n",
    "        intent=Intent.SALUTATION,\n",
    "    ),\n",
    "    Message(\n",
    "        message_id=\"1\",\n",
    "        timestamp=datetime(2022, 6, 15, 16, 18, 33, 960),\n",
    "        user_id=\"1\",\n",
    "        text=\"Thanks for getting back to us on the styling issue \"\n",
    "        \"we had last week. Font colours are so important for productivity.\",\n",
    "        intent=Intent.PRAISE,\n",
    "    ),\n",
    "    Message(\n",
    "        message_id=\"2\",\n",
    "        timestamp=datetime(2022, 6, 15, 16, 18, 34, 450),\n",
    "        user_id=\"1\",\n",
    "        text=\"I noticed the Slack bot being very verbose lately\",\n",
    "    ),\n",
    "    Message(\n",
    "        message_id=\"3\",\n",
    "        timestamp=datetime(2022, 6, 15, 16, 18, 34, 990),\n",
    "        user_id=\"1\",\n",
    "        text=\"Is there a way to decrease the verbosity level?\",\n",
    "    ),\n",
    "    Message(\n",
    "        message_id=\"4\",\n",
    "        timestamp=datetime(2022, 6, 15, 16, 18, 36, 211),\n",
    "        user_id=\"1\",\n",
    "        text=\"I want ab.bot to ignore thank you messages and stop \"\n",
    "        \"asking our customers to assign messages to threads.\",\n",
    "    ),\n",
    "    Message(\n",
    "        message_id=\"5\",\n",
    "        timestamp=datetime(2022, 6, 15, 16, 18, 42, 97),\n",
    "        user_id=\"1\",\n",
    "        text=\"Our clients are not technical so working with threads is difficult.\",\n",
    "    ),\n",
    "    Message(\n",
    "        message_id=\"6\",\n",
    "        timestamp=datetime(2022, 6, 15, 16, 18, 44, 155),\n",
    "        user_id=\"1\",\n",
    "        text=\"Thanks again, looking forward to your response!\",\n",
    "    ),\n",
    "    Message(\n",
    "        message_id=\"7\",\n",
    "        timestamp=datetime(2022, 6, 15, 16, 18, 44, 822),\n",
    "        user_id=\"1\",\n",
    "        text=\"Oh, before I forget. Is there a settings to change the font size?\",\n",
    "    ),\n",
    "]"
   ]
  },
  {
   "cell_type": "code",
   "execution_count": 54,
   "metadata": {
    "pycharm": {
     "name": "#%%\n"
    }
   },
   "outputs": [
    {
     "name": "stderr",
     "output_type": "stream",
     "text": [
      "WARNING:root:Client received error from server: [ERROR - POST /analyze] [ERROR - POST /tag] Unable to initialize plugin/app. | [Errno 2] No such file or directory: '/var/task/.steamship/secrets.toml'\n",
      "ERROR:root:Client received error from server: [ERROR - POST /analyze] [ERROR - POST /tag] Unable to initialize plugin/app. | [Errno 2] No such file or directory: '/var/task/.steamship/secrets.toml'\n"
     ]
    },
    {
     "ename": "SteamshipError",
     "evalue": "[ERROR - POST /analyze] [ERROR - POST /tag] Unable to initialize plugin/app. | [Errno 2] No such file or directory: '/var/task/.steamship/secrets.toml'",
     "output_type": "error",
     "traceback": [
      "\u001B[0;31m---------------------------------------------------------------------------\u001B[0m",
      "\u001B[0;31mSteamshipError\u001B[0m                            Traceback (most recent call last)",
      "Input \u001B[0;32mIn [54]\u001B[0m, in \u001B[0;36m<cell line: 8>\u001B[0;34m()\u001B[0m\n\u001B[1;32m      1\u001B[0m \u001B[38;5;66;03m# Now let's use the package.\u001B[39;00m\n\u001B[1;32m      2\u001B[0m \u001B[38;5;66;03m# We'll call the \"analyze\" method, passing it the MESSAGES list formatted as JSON.\u001B[39;00m\n\u001B[1;32m      3\u001B[0m response \u001B[38;5;241m=\u001B[39m instance\u001B[38;5;241m.\u001B[39mpost(\n\u001B[1;32m      4\u001B[0m     \u001B[38;5;124m\"\u001B[39m\u001B[38;5;124manalyze\u001B[39m\u001B[38;5;124m\"\u001B[39m,\n\u001B[1;32m      5\u001B[0m     chat_stream\u001B[38;5;241m=\u001B[39m[message\u001B[38;5;241m.\u001B[39mdict(format_dates\u001B[38;5;241m=\u001B[39m\u001B[38;5;28;01mTrue\u001B[39;00m, format_enums\u001B[38;5;241m=\u001B[39m\u001B[38;5;28;01mTrue\u001B[39;00m) \u001B[38;5;28;01mfor\u001B[39;00m message \u001B[38;5;129;01min\u001B[39;00m MESSAGES],\n\u001B[1;32m      6\u001B[0m )\n\u001B[0;32m----> 8\u001B[0m output_stream \u001B[38;5;241m=\u001B[39m parse_obj_as(List[Message], \u001B[43mresponse\u001B[49m\u001B[38;5;241;43m.\u001B[39;49m\u001B[43mdata\u001B[49m[\u001B[38;5;124m\"\u001B[39m\u001B[38;5;124mchat_stream\u001B[39m\u001B[38;5;124m\"\u001B[39m])\n",
      "File \u001B[0;32m~/steamship-apps/chat-analytics-app/.venv/lib/python3.8/site-packages/steamship/base/response.py:30\u001B[0m, in \u001B[0;36mResponse.data\u001B[0;34m(self)\u001B[0m\n\u001B[1;32m     27\u001B[0m \u001B[38;5;129m@property\u001B[39m\n\u001B[1;32m     28\u001B[0m \u001B[38;5;28;01mdef\u001B[39;00m \u001B[38;5;21mdata\u001B[39m(\u001B[38;5;28mself\u001B[39m):\n\u001B[1;32m     29\u001B[0m     \u001B[38;5;28;01mif\u001B[39;00m \u001B[38;5;28mself\u001B[39m\u001B[38;5;241m.\u001B[39merror:\n\u001B[0;32m---> 30\u001B[0m         \u001B[38;5;28;01mraise\u001B[39;00m \u001B[38;5;28mself\u001B[39m\u001B[38;5;241m.\u001B[39merror\n\u001B[1;32m     31\u001B[0m     \u001B[38;5;28;01mif\u001B[39;00m \u001B[38;5;28mself\u001B[39m\u001B[38;5;241m.\u001B[39mtask \u001B[38;5;129;01mis\u001B[39;00m \u001B[38;5;129;01mnot\u001B[39;00m \u001B[38;5;28;01mNone\u001B[39;00m:\n\u001B[1;32m     32\u001B[0m         \u001B[38;5;28;01mif\u001B[39;00m \u001B[38;5;28mself\u001B[39m\u001B[38;5;241m.\u001B[39mtask\u001B[38;5;241m.\u001B[39mstate \u001B[38;5;241m==\u001B[39m TaskState\u001B[38;5;241m.\u001B[39mfailed:\n",
      "\u001B[0;31mSteamshipError\u001B[0m: [ERROR - POST /analyze] [ERROR - POST /tag] Unable to initialize plugin/app. | [Errno 2] No such file or directory: '/var/task/.steamship/secrets.toml'"
     ]
    }
   ],
   "source": [
    "# Now let's use the package.\n",
    "# We'll call the \"analyze\" method, passing it the MESSAGES list formatted as JSON.\n",
    "response = instance.post(\n",
    "    \"analyze\",\n",
    "    chat_stream=[message.dict(format_dates=True, format_enums=True) for message in MESSAGES],\n",
    ")\n",
    "\n",
    "output_stream = parse_obj_as(List[Message], response.data[\"chat_stream\"])"
   ]
  },
  {
   "cell_type": "code",
   "execution_count": 26,
   "metadata": {
    "pycharm": {
     "name": "#%%\n"
    }
   },
   "outputs": [],
   "source": [
    "# The output chat stream has additional fields completed:\n",
    "# - The intent"
   ]
  },
  {
   "cell_type": "code",
   "execution_count": null,
   "metadata": {
    "pycharm": {
     "name": "#%%\n"
    }
   },
   "outputs": [],
   "source": []
  }
 ],
 "metadata": {
  "kernelspec": {
   "display_name": "Python 3",
   "language": "python",
   "name": "python3"
  },
  "language_info": {
   "codemirror_mode": {
    "name": "ipython",
    "version": 2
   },
   "file_extension": ".py",
   "mimetype": "text/x-python",
   "name": "python",
   "nbconvert_exporter": "python",
   "pygments_lexer": "ipython2",
   "version": "2.7.6"
  }
 },
 "nbformat": 4,
 "nbformat_minor": 0
}